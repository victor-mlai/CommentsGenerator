{
 "cells": [
  {
   "cell_type": "markdown",
   "source": [
    "Load dataset"
   ],
   "metadata": {}
  },
  {
   "cell_type": "code",
   "execution_count": 125,
   "source": [
    "import json\r\n",
    "\r\n",
    "bos = \"<BOS>\"\r\n",
    "eos = \"<EOS>\"\r\n",
    "MAX_TARGET_SIZE = 62\r\n",
    "MAX_INTPUT_DATA_SIZE = 40000\r\n",
    "\r\n",
    "input_data = []\r\n",
    "target_data = []\r\n",
    "for line in open('train_shuffled.json', 'r', encoding='utf-8'):\r\n",
    "    example = json.loads(line)\r\n",
    "    \r\n",
    "    input_data.append(example[\"code\"])\r\n",
    "    target_data.append([bos] + list(map(lambda word: word.lower(), example[\"nlToks\"][:MAX_TARGET_SIZE])) + [eos])\r\n",
    "\r\n",
    "    MAX_INTPUT_DATA_SIZE -= 1\r\n",
    "    if MAX_INTPUT_DATA_SIZE == 0:\r\n",
    "        break"
   ],
   "outputs": [],
   "metadata": {}
  },
  {
   "cell_type": "code",
   "execution_count": 126,
   "source": [
    "#import json\r\n",
    "#dataset = tf.data.TextLineDataset([\"train_shuffled.json\"])"
   ],
   "outputs": [],
   "metadata": {}
  },
  {
   "cell_type": "code",
   "execution_count": 127,
   "source": [
    "print(len(input_data))\r\n",
    "print(input_data[23])\r\n",
    "print(target_data[23])"
   ],
   "outputs": [
    {
     "output_type": "stream",
     "name": "stdout",
     "text": [
      "40000\n",
      "['boolean', 'function', '(', ')', '{', 'return', 'globalAdminRole', ';', '}']\n",
      "['<BOS>', 'get', 'if', 'has', 'global', 'admin', 'role', '.', '<EOS>']\n"
     ]
    }
   ],
   "metadata": {}
  },
  {
   "cell_type": "markdown",
   "source": [
    "Create a vocabulary to save mappings from tokens to integer indices"
   ],
   "metadata": {}
  },
  {
   "cell_type": "code",
   "execution_count": 128,
   "source": [
    "input_vocab = set()\r\n",
    "target_vocab = set()\r\n",
    "\r\n",
    "for line in input_data:\r\n",
    "    input_vocab.update(line)\r\n",
    "\r\n",
    "for line in target_data:\r\n",
    "    target_vocab.update(line)\r\n",
    "\r\n",
    "input_vocab_size = len(input_vocab)+1\r\n",
    "target_vocab_size = len(target_vocab)+3\r\n",
    "\r\n",
    "print(input_vocab_size)\r\n",
    "print(target_vocab_size)"
   ],
   "outputs": [
    {
     "output_type": "stream",
     "name": "stdout",
     "text": [
      "57568\n",
      "23869\n"
     ]
    }
   ],
   "metadata": {}
  },
  {
   "cell_type": "markdown",
   "source": [
    "Learn Word2Vec mapping"
   ],
   "metadata": {}
  },
  {
   "cell_type": "code",
   "execution_count": 129,
   "source": [
    "# the '+1' is to keep the '0' reserved for padding\r\n",
    "input_2_index = {word : counter+1 for counter, word in enumerate(input_vocab)}\r\n",
    "index_2_input = {counter+1 : word for counter, word in enumerate(input_vocab)}\r\n",
    "\r\n",
    "target_2_index = {word : counter+1 for counter, word in enumerate(target_vocab)}\r\n",
    "index_2_target = {counter+1 : word for counter, word in enumerate(target_vocab)}\r\n",
    "\r\n",
    "input_2_index[\"<PAD>\"] = 0\r\n",
    "target_2_index[\"<PAD>\"] = 0\r\n",
    "index_2_input[0] = \"<PAD>\"\r\n",
    "index_2_target[0] = \"<PAD>\"\r\n",
    "\r\n",
    "max_input = max(input_data, key=lambda row: len(row))\r\n",
    "print(max_input)\r\n",
    "max_input_size = len(max_input)\r\n",
    "\r\n",
    "max_target = max(target_data, key=lambda row: len(row))\r\n",
    "print(max_target)\r\n",
    "max_target_size = len(max_target)\r\n",
    "\r\n",
    "max_input_size, max_target_size"
   ],
   "outputs": [
    {
     "output_type": "stream",
     "name": "stdout",
     "text": [
      "['int', 'function', '(', 'byte', '[', ']', 'in', ',', 'int', 'inOff', ',', 'byte', '[', ']', 'out', ',', 'int', 'outOff', ')', '{', 'int', 'A', '=', 'bytesToWord', '(', 'in', ',', 'inOff', ')', '+', '_S', '[', '0', ']', ';', 'int', 'B', '=', 'bytesToWord', '(', 'in', ',', 'inOff', '+', '4', ')', '+', '_S', '[', '1', ']', ';', 'for', '(', 'int', 'i', '=', '1', ';', 'i', '<=', '_noRounds', ';', 'i', '++', ')', '{', 'A', '=', 'rotateLeft', '(', 'A', '^', 'B', ',', 'B', ')', '+', '_S', '[', '2', '*', 'i', ']', ';', 'B', '=', 'rotateLeft', '(', 'B', '^', 'A', ',', 'A', ')', '+', '_S', '[', '2', '*', 'i', '+', '1', ']', ';', '}', 'wordToBytes', '(', 'A', ',', 'out', ',', 'outOff', ')', ';', 'wordToBytes', '(', 'B', ',', 'out', ',', 'outOff', '+', '4', ')', ';', 'return', '2', '*', '4', ';', '}']\n",
      "['<BOS>', 'do', \"n't\", 'use', 'this', '.', 'no', ',', 'really', ',', 'do', \"n't\", 'use', 'this', '.', 'you', 'already', 'have', 'an', '-lcb-', '@link', 'authenticationtoken', '-rcb-', 'with', '-lcb-', '@link', 'org.apache.accumulo.core.client.mapreduce.lib.impl.configuratorbase', '#getauthenticationtoken', '-lrb-', 'class', ',', 'configuration', '-rrb-', '-rcb-', '.', 'you', 'do', \"n't\", 'need', 'to', 'construct', 'it', 'yourself', '.', 'gets', 'the', 'password', 'from', 'the', 'configuration', '.', 'warning', ':', 'the', 'password', 'is', 'stored', 'in', 'the', 'configuration', 'and', 'shared', 'with', '<EOS>']\n"
     ]
    },
    {
     "output_type": "execute_result",
     "data": {
      "text/plain": [
       "(132, 64)"
      ]
     },
     "metadata": {},
     "execution_count": 129
    }
   ],
   "metadata": {}
  },
  {
   "cell_type": "code",
   "execution_count": 130,
   "source": [
    "print(input_2_index[\"for\"])\r\n",
    "print(index_2_input[4438])\r\n",
    "print(target_2_index[\"get\"])\r\n",
    "print(index_2_target[6894])"
   ],
   "outputs": [
    {
     "output_type": "stream",
     "name": "stdout",
     "text": [
      "50333\n",
      "getDetailHTML\n",
      "822\n",
      "amounts\n"
     ]
    }
   ],
   "metadata": {}
  },
  {
   "cell_type": "markdown",
   "source": [
    "Converting words to padded sequences of indexes"
   ],
   "metadata": {}
  },
  {
   "cell_type": "code",
   "execution_count": 131,
   "source": [
    "input_seq = []\r\n",
    "for row in input_data:\r\n",
    "    seq = [input_2_index[word] for word in row]\r\n",
    "    padding = max_input_size - len(seq)\r\n",
    "    if padding != 0:\r\n",
    "        seq += [0 for _ in range(padding)]\r\n",
    "    input_seq.append(seq)\r\n",
    "\r\n",
    "print(input_seq[23])\r\n",
    "print(list(map(lambda idx: index_2_input[idx], input_seq[23])))\r\n",
    "\r\n",
    "target_seq = []\r\n",
    "for row in target_data:\r\n",
    "    seq = [target_2_index[word] for word in row]\r\n",
    "    padding = max_target_size - len(seq)\r\n",
    "    if padding != 0:\r\n",
    "        seq += [0 for _ in range(padding)]\r\n",
    "    target_seq.append(seq)\r\n",
    "\r\n",
    "print(target_seq[23])\r\n",
    "print(list(map(lambda idx: index_2_target[idx], target_seq[23])))"
   ],
   "outputs": [
    {
     "output_type": "stream",
     "name": "stdout",
     "text": [
      "[48369, 41127, 16913, 52514, 7185, 55254, 2911, 29597, 30542, 0, 0, 0, 0, 0, 0, 0, 0, 0, 0, 0, 0, 0, 0, 0, 0, 0, 0, 0, 0, 0, 0, 0, 0, 0, 0, 0, 0, 0, 0, 0, 0, 0, 0, 0, 0, 0, 0, 0, 0, 0, 0, 0, 0, 0, 0, 0, 0, 0, 0, 0, 0, 0, 0, 0, 0, 0, 0, 0, 0, 0, 0, 0, 0, 0, 0, 0, 0, 0, 0, 0, 0, 0, 0, 0, 0, 0, 0, 0, 0, 0, 0, 0, 0, 0, 0, 0, 0, 0, 0, 0, 0, 0, 0, 0, 0, 0, 0, 0, 0, 0, 0, 0, 0, 0, 0, 0, 0, 0, 0, 0, 0, 0, 0, 0, 0, 0, 0, 0, 0, 0, 0, 0]\n",
      "['boolean', 'function', '(', ')', '{', 'return', 'globalAdminRole', ';', '}', '<PAD>', '<PAD>', '<PAD>', '<PAD>', '<PAD>', '<PAD>', '<PAD>', '<PAD>', '<PAD>', '<PAD>', '<PAD>', '<PAD>', '<PAD>', '<PAD>', '<PAD>', '<PAD>', '<PAD>', '<PAD>', '<PAD>', '<PAD>', '<PAD>', '<PAD>', '<PAD>', '<PAD>', '<PAD>', '<PAD>', '<PAD>', '<PAD>', '<PAD>', '<PAD>', '<PAD>', '<PAD>', '<PAD>', '<PAD>', '<PAD>', '<PAD>', '<PAD>', '<PAD>', '<PAD>', '<PAD>', '<PAD>', '<PAD>', '<PAD>', '<PAD>', '<PAD>', '<PAD>', '<PAD>', '<PAD>', '<PAD>', '<PAD>', '<PAD>', '<PAD>', '<PAD>', '<PAD>', '<PAD>', '<PAD>', '<PAD>', '<PAD>', '<PAD>', '<PAD>', '<PAD>', '<PAD>', '<PAD>', '<PAD>', '<PAD>', '<PAD>', '<PAD>', '<PAD>', '<PAD>', '<PAD>', '<PAD>', '<PAD>', '<PAD>', '<PAD>', '<PAD>', '<PAD>', '<PAD>', '<PAD>', '<PAD>', '<PAD>', '<PAD>', '<PAD>', '<PAD>', '<PAD>', '<PAD>', '<PAD>', '<PAD>', '<PAD>', '<PAD>', '<PAD>', '<PAD>', '<PAD>', '<PAD>', '<PAD>', '<PAD>', '<PAD>', '<PAD>', '<PAD>', '<PAD>', '<PAD>', '<PAD>', '<PAD>', '<PAD>', '<PAD>', '<PAD>', '<PAD>', '<PAD>', '<PAD>', '<PAD>', '<PAD>', '<PAD>', '<PAD>', '<PAD>', '<PAD>', '<PAD>', '<PAD>', '<PAD>', '<PAD>', '<PAD>', '<PAD>', '<PAD>', '<PAD>', '<PAD>']\n",
      "[23288, 822, 6400, 10825, 14978, 3238, 10279, 12153, 5791, 0, 0, 0, 0, 0, 0, 0, 0, 0, 0, 0, 0, 0, 0, 0, 0, 0, 0, 0, 0, 0, 0, 0, 0, 0, 0, 0, 0, 0, 0, 0, 0, 0, 0, 0, 0, 0, 0, 0, 0, 0, 0, 0, 0, 0, 0, 0, 0, 0, 0, 0, 0, 0, 0, 0]\n",
      "['<BOS>', 'get', 'if', 'has', 'global', 'admin', 'role', '.', '<EOS>', '<PAD>', '<PAD>', '<PAD>', '<PAD>', '<PAD>', '<PAD>', '<PAD>', '<PAD>', '<PAD>', '<PAD>', '<PAD>', '<PAD>', '<PAD>', '<PAD>', '<PAD>', '<PAD>', '<PAD>', '<PAD>', '<PAD>', '<PAD>', '<PAD>', '<PAD>', '<PAD>', '<PAD>', '<PAD>', '<PAD>', '<PAD>', '<PAD>', '<PAD>', '<PAD>', '<PAD>', '<PAD>', '<PAD>', '<PAD>', '<PAD>', '<PAD>', '<PAD>', '<PAD>', '<PAD>', '<PAD>', '<PAD>', '<PAD>', '<PAD>', '<PAD>', '<PAD>', '<PAD>', '<PAD>', '<PAD>', '<PAD>', '<PAD>', '<PAD>', '<PAD>', '<PAD>', '<PAD>', '<PAD>']\n"
     ]
    }
   ],
   "metadata": {}
  },
  {
   "cell_type": "markdown",
   "source": [
    "Create Dataset"
   ],
   "metadata": {}
  },
  {
   "cell_type": "code",
   "execution_count": 132,
   "source": [
    "import tensorflow as tf\r\n",
    "\r\n",
    "train_data_size = int(len(input_seq)*8/10)\r\n",
    "valid_data_size = int(len(input_seq)*2/10)\r\n",
    "# Configuration \r\n",
    "BUFFER_SIZE = len(input_seq)\r\n",
    "BATCH_SIZE = 64\r\n",
    "steps_per_epoch = train_data_size//BATCH_SIZE\r\n",
    "steps_per_epoch_val = valid_data_size//BATCH_SIZE\r\n",
    "\r\n",
    "dataset = tf.data.Dataset.from_tensor_slices((input_seq[:train_data_size], target_seq[:train_data_size])).shuffle(BUFFER_SIZE)\r\n",
    "dataset = dataset.batch(BATCH_SIZE, drop_remainder=True)\r\n",
    "\r\n",
    "validation_dataset = tf.data.Dataset.from_tensor_slices((input_seq[train_data_size:], target_seq[train_data_size:])).shuffle(BUFFER_SIZE)\r\n",
    "validation_dataset = validation_dataset.batch(BATCH_SIZE, drop_remainder=True)\r\n",
    "\r\n",
    "example_input_batch, example_target_batch = next(iter(dataset))\r\n",
    "example_input_batch.shape, example_target_batch.shape"
   ],
   "outputs": [
    {
     "output_type": "execute_result",
     "data": {
      "text/plain": [
       "(TensorShape([64, 132]), TensorShape([64, 64]))"
      ]
     },
     "metadata": {},
     "execution_count": 132
    }
   ],
   "metadata": {}
  },
  {
   "cell_type": "markdown",
   "source": [
    "Build Model"
   ],
   "metadata": {}
  },
  {
   "cell_type": "code",
   "execution_count": 133,
   "source": [
    "from tensorflow.keras import layers\r\n",
    "\r\n",
    "EMBEDDING_SIZE = 256 #\r\n",
    "UNITS_SIZE = 512  # dimensionality of the output space of RNN"
   ],
   "outputs": [],
   "metadata": {}
  },
  {
   "cell_type": "code",
   "execution_count": 134,
   "source": [
    "class Encoder(tf.keras.Model):\r\n",
    "  def __init__(self, vocab_size, embedding_dim, enc_units, batch_sz):\r\n",
    "    super(Encoder, self).__init__()\r\n",
    "    self.batch_sz = batch_sz\r\n",
    "    self.enc_units = enc_units\r\n",
    "    self.embedding = tf.keras.layers.Embedding(vocab_size, embedding_dim)\r\n",
    "    self.gru = tf.keras.layers.GRU(self.enc_units,\r\n",
    "                                   return_sequences=True,  # Whether to return the last output in the output sequence, or the full sequence. \r\n",
    "                                   return_state=True,  # Whether to return the last state in addition to the output.\r\n",
    "                                   recurrent_initializer='glorot_uniform')\r\n",
    "\r\n",
    "  def call(self, x, hidden):\r\n",
    "    x = self.embedding(x)\r\n",
    "    output, state = self.gru(x, initial_state = hidden)\r\n",
    "    return output, state\r\n",
    "\r\n",
    "  def initialize_hidden_state(self):\r\n",
    "    return tf.zeros((self.batch_sz, self.enc_units))"
   ],
   "outputs": [],
   "metadata": {}
  },
  {
   "cell_type": "code",
   "execution_count": 135,
   "source": [
    "example_embedding = tf.keras.layers.Embedding(target_vocab_size, EMBEDDING_SIZE)\r\n",
    "example_embedding(tf.convert_to_tensor(target_seq[23]))"
   ],
   "outputs": [
    {
     "output_type": "execute_result",
     "data": {
      "text/plain": [
       "<tf.Tensor: shape=(64, 256), dtype=float32, numpy=\n",
       "array([[-0.03459042, -0.04496901, -0.0122651 , ...,  0.01420889,\n",
       "         0.01322491, -0.02345773],\n",
       "       [ 0.01918257,  0.01337619, -0.02534912, ...,  0.02573087,\n",
       "         0.04872001,  0.02911207],\n",
       "       [ 0.02363515, -0.04627422,  0.01053309, ...,  0.02489039,\n",
       "        -0.03361249, -0.03203248],\n",
       "       ...,\n",
       "       [ 0.02373663,  0.04936507, -0.03538222, ...,  0.02540287,\n",
       "         0.00547739,  0.03916056],\n",
       "       [ 0.02373663,  0.04936507, -0.03538222, ...,  0.02540287,\n",
       "         0.00547739,  0.03916056],\n",
       "       [ 0.02373663,  0.04936507, -0.03538222, ...,  0.02540287,\n",
       "         0.00547739,  0.03916056]], dtype=float32)>"
      ]
     },
     "metadata": {},
     "execution_count": 135
    }
   ],
   "metadata": {}
  },
  {
   "cell_type": "markdown",
   "source": [
    "The decoder uses attention to selectively focus on parts of the input sequence."
   ],
   "metadata": {}
  },
  {
   "cell_type": "code",
   "execution_count": 136,
   "source": [
    "class BahdanauAttention(tf.keras.layers.Layer):\r\n",
    "  def __init__(self, units):\r\n",
    "    super(BahdanauAttention, self).__init__()\r\n",
    "    self.W1 = tf.keras.layers.Dense(units)\r\n",
    "    self.W2 = tf.keras.layers.Dense(units)\r\n",
    "    self.V = tf.keras.layers.Dense(1)\r\n",
    "\r\n",
    "  def call(self, query, values):\r\n",
    "    # query hidden state shape == (batch_size, hidden size)\r\n",
    "    # query_with_time_axis shape == (batch_size, 1, hidden size)\r\n",
    "    # values shape == (batch_size, max_len, hidden size)\r\n",
    "    query_with_time_axis = tf.expand_dims(query, 1)\r\n",
    "\r\n",
    "    # score shape == (batch_size, max_length, 1)\r\n",
    "    # we get 1 at the last axis because we are applying score to self.V\r\n",
    "    # the shape of the tensor before applying self.V is (batch_size, max_length, units)\r\n",
    "    score = self.V(tf.nn.tanh(\r\n",
    "        self.W1(values) + self.W2(query_with_time_axis)))\r\n",
    "\r\n",
    "    # attention_weights shape == (batch_size, max_length, 1)\r\n",
    "    attention_weights = tf.nn.softmax(score, axis=1)\r\n",
    "\r\n",
    "    # context_vector shape after sum == (batch_size, hidden_size)\r\n",
    "    context_vector = attention_weights * values\r\n",
    "    context_vector = tf.reduce_sum(context_vector, axis=1)\r\n",
    "\r\n",
    "    return context_vector, attention_weights"
   ],
   "outputs": [],
   "metadata": {}
  },
  {
   "cell_type": "code",
   "execution_count": 137,
   "source": [
    "class DecoderWithAttention(tf.keras.Model):\r\n",
    "  def __init__(self, vocab_size, embedding_dim, dec_units, batch_sz, attention_layer = None):\r\n",
    "    super(DecoderWithAttention, self).__init__()\r\n",
    "    self.batch_sz = batch_sz\r\n",
    "    self.dec_units = dec_units\r\n",
    "    self.embedding = tf.keras.layers.Embedding(vocab_size, embedding_dim)\r\n",
    "    self.gru = tf.keras.layers.GRU(self.dec_units,\r\n",
    "                                   return_sequences=True,\r\n",
    "                                   return_state=True,\r\n",
    "                                   recurrent_initializer='glorot_uniform')\r\n",
    "    self.fc = tf.keras.layers.Dense(vocab_size)\r\n",
    "\r\n",
    "    # used for attention\r\n",
    "    self.attention = attention_layer\r\n",
    "\r\n",
    "  def call(self, x, hidden, enc_output):\r\n",
    "    # x shape after passing through embedding == (batch_size, 1, embedding_dim)\r\n",
    "    x = self.embedding(x)\r\n",
    "    attention_weights = None\r\n",
    "    \r\n",
    "    if self.attention:\r\n",
    "      # enc_output shape == (batch_size, max_length, hidden_size)\r\n",
    "      context_vector, attention_weights = self.attention(hidden, enc_output)\r\n",
    "      # x shape after concatenation == (batch_size, 1, embedding_dim + hidden_size)\r\n",
    "      x = tf.concat([tf.expand_dims(context_vector, 1), x], axis=-1)\r\n",
    "\r\n",
    "    # passing the concatenated vector to the GRU\r\n",
    "    output, state = self.gru(x, initial_state = hidden)\r\n",
    "\r\n",
    "    # output shape == (batch_size * 1, hidden_size)\r\n",
    "    output = tf.reshape(output, (-1, output.shape[2]))\r\n",
    "\r\n",
    "    # output shape == (batch_size, vocab)\r\n",
    "    x = self.fc(output)\r\n",
    "\r\n",
    "    return x, state, attention_weights"
   ],
   "outputs": [],
   "metadata": {}
  },
  {
   "cell_type": "markdown",
   "source": [
    "Training"
   ],
   "metadata": {}
  },
  {
   "cell_type": "code",
   "execution_count": 138,
   "source": [
    "loss_object = tf.keras.losses.SparseCategoricalCrossentropy(from_logits=True, reduction='none')\r\n",
    "\r\n",
    "def loss_function(real, pred):\r\n",
    "  mask = tf.math.logical_not(tf.math.equal(real, 0)) \r\n",
    "  loss_ = loss_object(real, pred)\r\n",
    "  mask = tf.cast(mask, dtype=loss_.dtype)\r\n",
    "  loss_ *= mask\r\n",
    "  return tf.reduce_mean(loss_)"
   ],
   "outputs": [],
   "metadata": {}
  },
  {
   "cell_type": "code",
   "execution_count": 139,
   "source": [
    "optimizer = tf.keras.optimizers.Adam()\r\n",
    "\r\n",
    "def get_train_step_func():\r\n",
    "\r\n",
    "  @tf.function\r\n",
    "  def train_step(inp, targ, enc_hidden, encoder, decoder):\r\n",
    "    loss = 0\r\n",
    "\r\n",
    "    with tf.GradientTape() as tape: # for automatic differentiation\r\n",
    "      enc_output, enc_hidden = encoder(inp, enc_hidden)\r\n",
    "\r\n",
    "      dec_hidden = enc_hidden\r\n",
    "      \r\n",
    "      dec_input = tf.expand_dims([target_2_index[bos]] * BATCH_SIZE, 1)\r\n",
    "\r\n",
    "      # Teacher forcing - feeding the target as the next input\r\n",
    "      for t in range(1, targ.shape[1]):\r\n",
    "        # passing enc_output to the decoder\r\n",
    "        predictions, dec_hidden, _ = decoder(dec_input, dec_hidden, enc_output)\r\n",
    "\r\n",
    "        loss += loss_function(targ[:, t], predictions)\r\n",
    "\r\n",
    "        # using teacher forcing\r\n",
    "        dec_input = tf.expand_dims(targ[:, t], 1)\r\n",
    "\r\n",
    "    batch_loss = (loss / int(targ.shape[1]))\r\n",
    "\r\n",
    "    variables = encoder.trainable_variables + decoder.trainable_variables\r\n",
    "\r\n",
    "    gradients = tape.gradient(loss, variables)\r\n",
    "\r\n",
    "    optimizer.apply_gradients(zip(gradients, variables))\r\n",
    "\r\n",
    "    return batch_loss\r\n",
    "    \r\n",
    "  return train_step"
   ],
   "outputs": [],
   "metadata": {}
  },
  {
   "cell_type": "code",
   "execution_count": 140,
   "source": [
    "def caculate_validation_loss(inp, targ, enc_hidden, encoder, decoder):\r\n",
    "  loss = 0\r\n",
    "  enc_output, enc_hidden = encoder(inp, enc_hidden)\r\n",
    "  dec_hidden = enc_hidden\r\n",
    "  dec_input = tf.expand_dims([target_2_index[bos]] * BATCH_SIZE, 1)\r\n",
    "\r\n",
    "  # Teacher forcing - feeding the target as the next input\r\n",
    "  for t in range(1, targ.shape[1]):\r\n",
    "    predictions, dec_hidden, _ = decoder(dec_input, dec_hidden, enc_output)\r\n",
    "    loss += loss_function(targ[:, t], predictions)\r\n",
    "    dec_input = tf.expand_dims(targ[:, t], 1)\r\n",
    "\r\n",
    "  loss = loss / int(targ.shape[1])\r\n",
    "  return loss"
   ],
   "outputs": [],
   "metadata": {}
  },
  {
   "cell_type": "code",
   "execution_count": 141,
   "source": [
    "import time\r\n",
    "\r\n",
    "def training_seq2seq(epochs, attention):\r\n",
    "  encoder = Encoder(input_vocab_size, EMBEDDING_SIZE, UNITS_SIZE, BATCH_SIZE)\r\n",
    "  decoder = DecoderWithAttention(target_vocab_size, EMBEDDING_SIZE, UNITS_SIZE, BATCH_SIZE, attention)\r\n",
    "  train_step_func = get_train_step_func()\r\n",
    "  training_loss = []\r\n",
    "  validation_loss = []\r\n",
    "\r\n",
    "  for epoch in range(epochs):\r\n",
    "    start = time.time()\r\n",
    "    enc_hidden = encoder.initialize_hidden_state()\r\n",
    "    total_loss = 0\r\n",
    "\r\n",
    "    for (batch, (inp, targ)) in enumerate(dataset.take(steps_per_epoch)):\r\n",
    "      batch_loss = train_step_func(inp, targ, enc_hidden, encoder, decoder)\r\n",
    "      total_loss += batch_loss\r\n",
    "\r\n",
    "      if batch % 100 == 0:\r\n",
    "        print('Epoch {} Batch {} Loss {:.4f}'.format(epoch + 1, batch, batch_loss))\r\n",
    "        \r\n",
    "    enc_hidden = encoder.initialize_hidden_state()\r\n",
    "    total_val_loss = 0\r\n",
    "    for (batch, (inp, targ)) in enumerate(validation_dataset.take(steps_per_epoch)):\r\n",
    "      val_loss = caculate_validation_loss(inp, targ, enc_hidden, encoder, decoder)\r\n",
    "      total_val_loss += val_loss\r\n",
    "\r\n",
    "    training_loss.append(total_loss / steps_per_epoch)\r\n",
    "    validation_loss.append(total_val_loss / steps_per_epoch_val)\r\n",
    "    print('Epoch {} Loss {:.4f} Validation Loss {:.4f}'.format(epoch + 1,\r\n",
    "                                        training_loss[-1], validation_loss[-1]))\r\n",
    "    print('Time taken for 1 epoch {} sec\\n'.format(time.time() - start))\r\n",
    "  return encoder, decoder, training_loss, validation_loss"
   ],
   "outputs": [],
   "metadata": {}
  },
  {
   "cell_type": "code",
   "execution_count": 155,
   "source": [
    "epochs_a = 10\r\n",
    "attention = BahdanauAttention(UNITS_SIZE)\r\n",
    "\r\n",
    "print(\"Running seq2seq model with attention\")\r\n",
    "encoder_a, decoder_a, training_loss_a, validation_loss_a = training_seq2seq(epochs_a, attention)"
   ],
   "outputs": [
    {
     "output_type": "stream",
     "name": "stdout",
     "text": [
      "Running seq2seq model with attention\n",
      "Epoch 1 Batch 0 Loss 2.1608\n",
      "Epoch 1 Batch 100 Loss 1.4202\n",
      "Epoch 1 Batch 200 Loss 1.0806\n",
      "Epoch 1 Batch 300 Loss 1.3158\n",
      "Epoch 1 Batch 400 Loss 1.3707\n",
      "Epoch 1 Loss 1.4742 Validation Loss 1.3480\n",
      "Time taken for 1 epoch 365.12645387649536 sec\n",
      "\n",
      "Epoch 2 Batch 0 Loss 1.4943\n",
      "Epoch 2 Batch 100 Loss 1.5548\n",
      "Epoch 2 Batch 200 Loss 1.4181\n",
      "Epoch 2 Batch 300 Loss 1.2578\n",
      "Epoch 2 Batch 400 Loss 1.2847\n",
      "Epoch 2 Loss 1.2736 Validation Loss 1.2751\n",
      "Time taken for 1 epoch 340.6719765663147 sec\n",
      "\n",
      "Epoch 3 Batch 0 Loss 1.1140\n",
      "Epoch 3 Batch 100 Loss 1.2273\n",
      "Epoch 3 Batch 200 Loss 1.1413\n",
      "Epoch 3 Batch 300 Loss 1.1030\n",
      "Epoch 3 Batch 400 Loss 1.1821\n",
      "Epoch 3 Loss 1.1864 Validation Loss 1.2020\n",
      "Time taken for 1 epoch 344.53237748146057 sec\n",
      "\n",
      "Epoch 4 Batch 0 Loss 1.2447\n",
      "Epoch 4 Batch 100 Loss 1.4464\n",
      "Epoch 4 Batch 200 Loss 1.1243\n",
      "Epoch 4 Batch 300 Loss 0.9883\n",
      "Epoch 4 Batch 400 Loss 1.1021\n",
      "Epoch 4 Loss 1.0911 Validation Loss 1.1374\n",
      "Time taken for 1 epoch 337.1328775882721 sec\n",
      "\n",
      "Epoch 5 Batch 0 Loss 1.0840\n",
      "Epoch 5 Batch 100 Loss 0.8453\n",
      "Epoch 5 Batch 200 Loss 1.0191\n",
      "Epoch 5 Batch 300 Loss 0.7756\n",
      "Epoch 5 Batch 400 Loss 1.2813\n",
      "Epoch 5 Loss 1.0002 Validation Loss 1.0813\n",
      "Time taken for 1 epoch 329.61154341697693 sec\n",
      "\n",
      "Epoch 6 Batch 0 Loss 1.0274\n",
      "Epoch 6 Batch 100 Loss 0.9602\n",
      "Epoch 6 Batch 200 Loss 0.9451\n",
      "Epoch 6 Batch 300 Loss 0.6369\n",
      "Epoch 6 Batch 400 Loss 0.9408\n",
      "Epoch 6 Loss 0.9150 Validation Loss 1.0348\n",
      "Time taken for 1 epoch 349.87604570388794 sec\n",
      "\n",
      "Epoch 7 Batch 0 Loss 0.9919\n",
      "Epoch 7 Batch 100 Loss 0.7935\n",
      "Epoch 7 Batch 200 Loss 1.0217\n",
      "Epoch 7 Batch 300 Loss 0.8789\n",
      "Epoch 7 Batch 400 Loss 0.7209\n",
      "Epoch 7 Loss 0.8361 Validation Loss 1.0047\n",
      "Time taken for 1 epoch 349.6851396560669 sec\n",
      "\n",
      "Epoch 8 Batch 0 Loss 0.7164\n",
      "Epoch 8 Batch 100 Loss 0.7786\n",
      "Epoch 8 Batch 200 Loss 0.8060\n",
      "Epoch 8 Batch 300 Loss 0.8067\n",
      "Epoch 8 Batch 400 Loss 0.8769\n",
      "Epoch 8 Loss 0.7643 Validation Loss 0.9832\n",
      "Time taken for 1 epoch 366.7407793998718 sec\n",
      "\n",
      "Epoch 9 Batch 0 Loss 0.7552\n",
      "Epoch 9 Batch 100 Loss 0.8197\n",
      "Epoch 9 Batch 200 Loss 0.5380\n",
      "Epoch 9 Batch 300 Loss 0.5722\n",
      "Epoch 9 Batch 400 Loss 0.7927\n",
      "Epoch 9 Loss 0.6965 Validation Loss 0.9680\n",
      "Time taken for 1 epoch 423.8443989753723 sec\n",
      "\n",
      "Epoch 10 Batch 0 Loss 0.5451\n",
      "Epoch 10 Batch 100 Loss 0.7151\n",
      "Epoch 10 Batch 200 Loss 0.7472\n",
      "Epoch 10 Batch 300 Loss 0.5896\n",
      "Epoch 10 Batch 400 Loss 0.7614\n",
      "Epoch 10 Loss 0.6337 Validation Loss 0.9574\n",
      "Time taken for 1 epoch 397.0713436603546 sec\n",
      "\n"
     ]
    }
   ],
   "metadata": {}
  },
  {
   "cell_type": "code",
   "execution_count": 150,
   "source": [
    "epochs = 10\r\n",
    "attention = None\r\n",
    "\r\n",
    "print(\"Running seq2seq model without attention\")\r\n",
    "encoder, decoder, training_loss, validation_loss = training_seq2seq(epochs, attention)"
   ],
   "outputs": [
    {
     "output_type": "stream",
     "name": "stdout",
     "text": [
      "Running seq2seq model without attention\n",
      "Epoch 1 Batch 0 Loss 2.3232\n",
      "Epoch 1 Batch 100 Loss 1.5912\n",
      "Epoch 1 Batch 200 Loss 1.2057\n",
      "Epoch 1 Batch 300 Loss 1.0078\n",
      "Epoch 1 Batch 400 Loss 1.1885\n",
      "Epoch 1 Loss 1.1861 Validation Loss 1.0127\n",
      "Time taken for 1 epoch 226.2422878742218 sec\n",
      "\n",
      "Epoch 2 Batch 0 Loss 0.9228\n",
      "Epoch 2 Batch 100 Loss 0.8040\n",
      "Epoch 2 Batch 200 Loss 0.8031\n",
      "Epoch 2 Batch 300 Loss 0.8772\n",
      "Epoch 2 Batch 400 Loss 0.8189\n",
      "Epoch 2 Loss 0.9099 Validation Loss 0.9393\n",
      "Time taken for 1 epoch 202.4939522743225 sec\n",
      "\n",
      "Epoch 3 Batch 0 Loss 0.8330\n",
      "Epoch 3 Batch 100 Loss 0.7056\n",
      "Epoch 3 Batch 200 Loss 0.7121\n",
      "Epoch 3 Batch 300 Loss 0.8738\n",
      "Epoch 3 Batch 400 Loss 0.8063\n",
      "Epoch 3 Loss 0.7757 Validation Loss 0.9077\n",
      "Time taken for 1 epoch 210.5242235660553 sec\n",
      "\n",
      "Epoch 4 Batch 0 Loss 0.5934\n",
      "Epoch 4 Batch 100 Loss 0.5890\n",
      "Epoch 4 Batch 200 Loss 0.6481\n",
      "Epoch 4 Batch 300 Loss 0.8136\n",
      "Epoch 4 Batch 400 Loss 0.7968\n",
      "Epoch 4 Loss 0.6706 Validation Loss 0.8939\n",
      "Time taken for 1 epoch 207.5815577507019 sec\n",
      "\n",
      "Epoch 5 Batch 0 Loss 0.5663\n",
      "Epoch 5 Batch 100 Loss 0.4671\n",
      "Epoch 5 Batch 200 Loss 0.5653\n",
      "Epoch 5 Batch 300 Loss 0.6872\n",
      "Epoch 5 Batch 400 Loss 0.4423\n",
      "Epoch 5 Loss 0.5860 Validation Loss 0.8899\n",
      "Time taken for 1 epoch 214.8175654411316 sec\n",
      "\n",
      "Epoch 6 Batch 0 Loss 0.6119\n",
      "Epoch 6 Batch 100 Loss 0.5736\n",
      "Epoch 6 Batch 200 Loss 0.5349\n",
      "Epoch 6 Batch 300 Loss 0.5763\n",
      "Epoch 6 Batch 400 Loss 0.5845\n",
      "Epoch 6 Loss 0.5185 Validation Loss 0.8907\n",
      "Time taken for 1 epoch 207.87305068969727 sec\n",
      "\n",
      "Epoch 7 Batch 0 Loss 0.5020\n",
      "Epoch 7 Batch 100 Loss 0.4328\n",
      "Epoch 7 Batch 200 Loss 0.4912\n",
      "Epoch 7 Batch 300 Loss 0.4449\n",
      "Epoch 7 Batch 400 Loss 0.3847\n",
      "Epoch 7 Loss 0.4619 Validation Loss 0.8958\n",
      "Time taken for 1 epoch 207.02728629112244 sec\n",
      "\n",
      "Epoch 8 Batch 0 Loss 0.3375\n",
      "Epoch 8 Batch 100 Loss 0.3217\n",
      "Epoch 8 Batch 200 Loss 0.3890\n",
      "Epoch 8 Batch 300 Loss 0.4252\n",
      "Epoch 8 Batch 400 Loss 0.3532\n",
      "Epoch 8 Loss 0.4133 Validation Loss 0.9042\n",
      "Time taken for 1 epoch 204.21808218955994 sec\n",
      "\n",
      "Epoch 9 Batch 0 Loss 0.3791\n",
      "Epoch 9 Batch 100 Loss 0.3447\n",
      "Epoch 9 Batch 200 Loss 0.3292\n",
      "Epoch 9 Batch 300 Loss 0.4519\n",
      "Epoch 9 Batch 400 Loss 0.3309\n",
      "Epoch 9 Loss 0.3701 Validation Loss 0.9148\n",
      "Time taken for 1 epoch 203.02229189872742 sec\n",
      "\n",
      "Epoch 10 Batch 0 Loss 0.3561\n",
      "Epoch 10 Batch 100 Loss 0.2518\n",
      "Epoch 10 Batch 200 Loss 0.3643\n",
      "Epoch 10 Batch 300 Loss 0.2961\n",
      "Epoch 10 Batch 400 Loss 0.3316\n",
      "Epoch 10 Loss 0.3325 Validation Loss 0.9296\n",
      "Time taken for 1 epoch 202.98897981643677 sec\n",
      "\n"
     ]
    }
   ],
   "metadata": {}
  },
  {
   "cell_type": "code",
   "execution_count": 157,
   "source": [
    "import matplotlib.pyplot as plt\r\n",
    "t_a = np.arange(1, epochs_a+1)\r\n",
    "t = np.arange(1, epochs+1)\r\n",
    "plt.plot(t_a, validation_loss_a, lw=2)\r\n",
    "plt.plot(t, validation_loss, lw=2)\r\n",
    "plt.legend(('Bahdanau', 'No attention'))"
   ],
   "outputs": [
    {
     "output_type": "execute_result",
     "data": {
      "text/plain": [
       "<matplotlib.legend.Legend at 0x1ca16e51dc8>"
      ]
     },
     "metadata": {},
     "execution_count": 157
    },
    {
     "output_type": "display_data",
     "data": {
      "image/png": "[encoded data removed]",
      "text/plain": [
       "<Figure size 432x288 with 1 Axes>"
      ]
     },
     "metadata": {
      "needs_background": "light"
     }
    }
   ],
   "metadata": {}
  },
  {
   "cell_type": "code",
   "execution_count": 158,
   "source": [
    "t_a = np.arange(1, epochs_a+1)\r\n",
    "t = np.arange(1, epochs+1)\r\n",
    "plt.plot(t_a, training_loss_a, lw=2)\r\n",
    "plt.plot(t, training_loss, lw=2)\r\n",
    "plt.legend(('Bahdanau', 'No attention'))"
   ],
   "outputs": [
    {
     "output_type": "execute_result",
     "data": {
      "text/plain": [
       "<matplotlib.legend.Legend at 0x1cc0e9e5688>"
      ]
     },
     "metadata": {},
     "execution_count": 158
    },
    {
     "output_type": "display_data",
     "data": {
      "image/png": "[encoded data removed]",
      "text/plain": [
       "<Figure size 432x288 with 1 Axes>"
      ]
     },
     "metadata": {
      "needs_background": "light"
     }
    }
   ],
   "metadata": {}
  },
  {
   "cell_type": "code",
   "execution_count": 161,
   "source": [
    "import numpy as np\r\n",
    "def translate(code_words, encoder, decoder):\r\n",
    "  print (code_words.split())\r\n",
    "  \r\n",
    "  code_tokens = [input_2_index[word] for word in code_words.split()]\r\n",
    "  padding = max_input_size - len(code_tokens)\r\n",
    "  if padding != 0:\r\n",
    "      code_tokens += [0 for _ in range(padding)]\r\n",
    "\r\n",
    "  print (code_tokens)\r\n",
    "  code_tensor = tf.convert_to_tensor([code_tokens])\r\n",
    "\r\n",
    "  result = ''\r\n",
    "\r\n",
    "  hidden = tf.zeros((1, UNITS_SIZE))\r\n",
    "  enc_out, enc_hidden = encoder(code_tensor, hidden)\r\n",
    "\r\n",
    "  dec_hidden = enc_hidden\r\n",
    "  dec_input = tf.expand_dims([target_2_index[bos]], 0)\r\n",
    "\r\n",
    "  for t in range(MAX_TARGET_SIZE):\r\n",
    "    predictions, dec_hidden, _ = decoder(\r\n",
    "      dec_input,\r\n",
    "      dec_hidden,\r\n",
    "      enc_out)\r\n",
    "\r\n",
    "    predicted_id = tf.argmax(predictions[0]).numpy()\r\n",
    "\r\n",
    "    result += index_2_target[predicted_id] + ' '\r\n",
    "\r\n",
    "    # until the predicted word is <end>.\r\n",
    "    if index_2_target[predicted_id] == eos:\r\n",
    "      return result\r\n",
    "\r\n",
    "    # the predicted ID is fed back into the model, no teacher forcing.\r\n",
    "    dec_input = tf.expand_dims([predicted_id], 0)\r\n",
    "\r\n",
    "  return result\r\n",
    "\r\n",
    "print(translate(\r\n",
    "\"\"\"int count ( int number )\r\n",
    " {\r\n",
    " int sum = 0 ;\r\n",
    " for ( int i = 3 ; i < number ; i ++ ) {\r\n",
    " if ( i % 3 == 0 )\r\n",
    " { sum += i ; }\r\n",
    " }\r\n",
    " return sum ;\r\n",
    " }\"\"\",\r\n",
    " encoder,\r\n",
    " decoder))"
   ],
   "outputs": [
    {
     "output_type": "stream",
     "name": "stdout",
     "text": [
      "['int', 'count', '(', 'int', 'number', ')', '{', 'int', 'sum', '=', '0', ';', 'for', '(', 'int', 'i', '=', '3', ';', 'i', '<', 'number', ';', 'i', '++', ')', '{', 'if', '(', 'i', '%', '3', '==', '0', ')', '{', 'sum', '+=', 'i', ';', '}', '}', 'return', 'sum', ';', '}']\n",
      "[53943, 28136, 16913, 53943, 43856, 52514, 7185, 53943, 7054, 7501, 43991, 29597, 50333, 16913, 53943, 34155, 7501, 16627, 29597, 34155, 35125, 43856, 29597, 34155, 15902, 52514, 7185, 15553, 16913, 34155, 20351, 16627, 11001, 43991, 52514, 7185, 7054, 11484, 34155, 29597, 30542, 30542, 55254, 7054, 29597, 30542, 0, 0, 0, 0, 0, 0, 0, 0, 0, 0, 0, 0, 0, 0, 0, 0, 0, 0, 0, 0, 0, 0, 0, 0, 0, 0, 0, 0, 0, 0, 0, 0, 0, 0, 0, 0, 0, 0, 0, 0, 0, 0, 0, 0, 0, 0, 0, 0, 0, 0, 0, 0, 0, 0, 0, 0, 0, 0, 0, 0, 0, 0, 0, 0, 0, 0, 0, 0, 0, 0, 0, 0, 0, 0, 0, 0, 0, 0, 0, 0, 0, 0, 0, 0, 0, 0]\n",
      "computes the logarithm of the first row in the matrix <EOS> \n"
     ]
    }
   ],
   "metadata": {}
  },
  {
   "cell_type": "code",
   "execution_count": 162,
   "source": [
    "print(translate(\r\n",
    "\"\"\"int count ( int number )\r\n",
    " {\r\n",
    " int sum = 0 ;\r\n",
    " for ( int i = 3 ; i < number ; i ++ ) {\r\n",
    " if ( i % 3 == 0 )\r\n",
    " { sum += i ; }\r\n",
    " }\r\n",
    " return sum ;\r\n",
    " }\"\"\",\r\n",
    " encoder_a,\r\n",
    " decoder_a))"
   ],
   "outputs": [
    {
     "output_type": "stream",
     "name": "stdout",
     "text": [
      "['int', 'count', '(', 'int', 'number', ')', '{', 'int', 'sum', '=', '0', ';', 'for', '(', 'int', 'i', '=', '3', ';', 'i', '<', 'number', ';', 'i', '++', ')', '{', 'if', '(', 'i', '%', '3', '==', '0', ')', '{', 'sum', '+=', 'i', ';', '}', '}', 'return', 'sum', ';', '}']\n",
      "[53943, 28136, 16913, 53943, 43856, 52514, 7185, 53943, 7054, 7501, 43991, 29597, 50333, 16913, 53943, 34155, 7501, 16627, 29597, 34155, 35125, 43856, 29597, 34155, 15902, 52514, 7185, 15553, 16913, 34155, 20351, 16627, 11001, 43991, 52514, 7185, 7054, 11484, 34155, 29597, 30542, 30542, 55254, 7054, 29597, 30542, 0, 0, 0, 0, 0, 0, 0, 0, 0, 0, 0, 0, 0, 0, 0, 0, 0, 0, 0, 0, 0, 0, 0, 0, 0, 0, 0, 0, 0, 0, 0, 0, 0, 0, 0, 0, 0, 0, 0, 0, 0, 0, 0, 0, 0, 0, 0, 0, 0, 0, 0, 0, 0, 0, 0, 0, 0, 0, 0, 0, 0, 0, 0, 0, 0, 0, 0, 0, 0, 0, 0, 0, 0, 0, 0, 0, 0, 0, 0, 0, 0, 0, 0, 0, 0, 0]\n",
      "returns the number of bits in the given index . <EOS> \n"
     ]
    }
   ],
   "metadata": {}
  }
 ],
 "metadata": {
  "orig_nbformat": 4,
  "language_info": {
   "name": "python",
   "version": "3.7.8",
   "mimetype": "text/x-python",
   "codemirror_mode": {
    "name": "ipython",
    "version": 3
   },
   "pygments_lexer": "ipython3",
   "nbconvert_exporter": "python",
   "file_extension": ".py"
  },
  "kernelspec": {
   "name": "python3",
   "display_name": "Python 3.7.8 64-bit"
  },
  "interpreter": {
   "hash": "57baa5815c940fdaff4d14510622de9616cae602444507ba5d0b6727c008cbd6"
  }
 },
 "nbformat": 4,
 "nbformat_minor": 2
}